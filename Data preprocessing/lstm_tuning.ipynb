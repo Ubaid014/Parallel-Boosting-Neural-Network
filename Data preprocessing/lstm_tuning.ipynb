{
 "cells": [
  {
   "cell_type": "code",
   "execution_count": 8,
   "metadata": {},
   "outputs": [
    {
     "data": {
      "text/html": [
       "<div>\n",
       "<style scoped>\n",
       "    .dataframe tbody tr th:only-of-type {\n",
       "        vertical-align: middle;\n",
       "    }\n",
       "\n",
       "    .dataframe tbody tr th {\n",
       "        vertical-align: top;\n",
       "    }\n",
       "\n",
       "    .dataframe thead th {\n",
       "        text-align: right;\n",
       "    }\n",
       "</style>\n",
       "<table border=\"1\" class=\"dataframe\">\n",
       "  <thead>\n",
       "    <tr style=\"text-align: right;\">\n",
       "      <th></th>\n",
       "      <th>All sky irradiance</th>\n",
       "      <th>Clear sky irradiance</th>\n",
       "      <th>ALLSKY  ICI</th>\n",
       "      <th>Temperature</th>\n",
       "      <th>Dew point</th>\n",
       "      <th>Wet bulb</th>\n",
       "      <th>Surface pressure</th>\n",
       "      <th>ALLSKY SFC PAR TOT</th>\n",
       "      <th>ALLSKY SFC UV INDEX</th>\n",
       "      <th>CLRSKY SFC PAR TOT</th>\n",
       "      <th>QV2M</th>\n",
       "    </tr>\n",
       "  </thead>\n",
       "  <tbody>\n",
       "    <tr>\n",
       "      <th>0</th>\n",
       "      <td>3.51</td>\n",
       "      <td>3.46</td>\n",
       "      <td>0.71</td>\n",
       "      <td>14.11</td>\n",
       "      <td>-8.76</td>\n",
       "      <td>2.67</td>\n",
       "      <td>96.39</td>\n",
       "      <td>60.12</td>\n",
       "      <td>0.48</td>\n",
       "      <td>60.32</td>\n",
       "      <td>1.95</td>\n",
       "    </tr>\n",
       "    <tr>\n",
       "      <th>1</th>\n",
       "      <td>3.31</td>\n",
       "      <td>3.33</td>\n",
       "      <td>0.66</td>\n",
       "      <td>13.40</td>\n",
       "      <td>-8.78</td>\n",
       "      <td>2.31</td>\n",
       "      <td>96.52</td>\n",
       "      <td>56.69</td>\n",
       "      <td>0.47</td>\n",
       "      <td>57.84</td>\n",
       "      <td>1.95</td>\n",
       "    </tr>\n",
       "    <tr>\n",
       "      <th>2</th>\n",
       "      <td>1.16</td>\n",
       "      <td>2.46</td>\n",
       "      <td>0.23</td>\n",
       "      <td>10.69</td>\n",
       "      <td>-3.81</td>\n",
       "      <td>3.44</td>\n",
       "      <td>96.73</td>\n",
       "      <td>21.05</td>\n",
       "      <td>0.19</td>\n",
       "      <td>41.63</td>\n",
       "      <td>3.05</td>\n",
       "    </tr>\n",
       "    <tr>\n",
       "      <th>3</th>\n",
       "      <td>3.19</td>\n",
       "      <td>3.17</td>\n",
       "      <td>0.64</td>\n",
       "      <td>10.90</td>\n",
       "      <td>-1.80</td>\n",
       "      <td>4.55</td>\n",
       "      <td>96.64</td>\n",
       "      <td>54.38</td>\n",
       "      <td>0.45</td>\n",
       "      <td>54.98</td>\n",
       "      <td>3.48</td>\n",
       "    </tr>\n",
       "    <tr>\n",
       "      <th>4</th>\n",
       "      <td>3.65</td>\n",
       "      <td>3.64</td>\n",
       "      <td>0.73</td>\n",
       "      <td>14.12</td>\n",
       "      <td>-6.95</td>\n",
       "      <td>3.58</td>\n",
       "      <td>96.20</td>\n",
       "      <td>62.85</td>\n",
       "      <td>0.53</td>\n",
       "      <td>63.70</td>\n",
       "      <td>2.32</td>\n",
       "    </tr>\n",
       "  </tbody>\n",
       "</table>\n",
       "</div>"
      ],
      "text/plain": [
       "   All sky irradiance  Clear sky irradiance  ALLSKY  ICI  Temperature  \\\n",
       "0                3.51                  3.46         0.71        14.11   \n",
       "1                3.31                  3.33         0.66        13.40   \n",
       "2                1.16                  2.46         0.23        10.69   \n",
       "3                3.19                  3.17         0.64        10.90   \n",
       "4                3.65                  3.64         0.73        14.12   \n",
       "\n",
       "   Dew point  Wet bulb  Surface pressure  ALLSKY SFC PAR TOT  \\\n",
       "0      -8.76      2.67             96.39               60.12   \n",
       "1      -8.78      2.31             96.52               56.69   \n",
       "2      -3.81      3.44             96.73               21.05   \n",
       "3      -1.80      4.55             96.64               54.38   \n",
       "4      -6.95      3.58             96.20               62.85   \n",
       "\n",
       "   ALLSKY SFC UV INDEX  CLRSKY SFC PAR TOT  QV2M  \n",
       "0                 0.48               60.32  1.95  \n",
       "1                 0.47               57.84  1.95  \n",
       "2                 0.19               41.63  3.05  \n",
       "3                 0.45               54.98  3.48  \n",
       "4                 0.53               63.70  2.32  "
      ]
     },
     "execution_count": 8,
     "metadata": {},
     "output_type": "execute_result"
    }
   ],
   "source": [
    "import pandas as pd\n",
    "import numpy as np\n",
    "from sklearn.model_selection import train_test_split\n",
    "from sklearn.preprocessing import MinMaxScaler\n",
    "from sklearn.metrics import mean_squared_error\n",
    "import tensorflow as tf\n",
    "import random\n",
    "from tensorflow.keras.models import Sequential\n",
    "from tensorflow.keras.layers import LSTM, Dense, Dropout\n",
    "from tensorflow.keras.optimizers import Adam, RMSprop, SGD\n",
    "from sklearn.preprocessing import StandardScaler\n",
    "# Load the dataset\n",
    "df = pd.read_csv(\"Islamabad_featured_data.csv\")\n",
    "df.head()\n"
   ]
  },
  {
   "cell_type": "code",
   "execution_count": 9,
   "metadata": {},
   "outputs": [],
   "source": [
    "X = df.drop(\"All sky irradiance\", axis=1)\n",
    "y = df[\"All sky irradiance\"]"
   ]
  },
  {
   "cell_type": "code",
   "execution_count": 10,
   "metadata": {},
   "outputs": [],
   "source": [
    "scaler_X = StandardScaler()\n",
    "X_scaled = scaler_X.fit_transform(df)\n",
    "\n",
    "scaler_y = StandardScaler()\n",
    "y_scaled = scaler_y.fit_transform(y.values.reshape(-1, 1)).flatten() \n",
    "X_train, X_test, y_train, y_test = train_test_split(X_scaled, y_scaled, test_size = 0.2,shuffle=False)"
   ]
  },
  {
   "cell_type": "code",
   "execution_count": 11,
   "metadata": {},
   "outputs": [
    {
     "name": "stderr",
     "output_type": "stream",
     "text": [
      "/Library/Frameworks/Python.framework/Versions/3.10/lib/python3.10/site-packages/keras/src/layers/rnn/rnn.py:204: UserWarning: Do not pass an `input_shape`/`input_dim` argument to a layer. When using Sequential models, prefer using an `Input(shape)` object as the first layer in the model instead.\n",
      "  super().__init__(**kwargs)\n"
     ]
    },
    {
     "name": "stdout",
     "output_type": "stream",
     "text": [
      "\u001b[1m26/26\u001b[0m \u001b[32m━━━━━━━━━━━━━━━━━━━━\u001b[0m\u001b[37m\u001b[0m \u001b[1m0s\u001b[0m 6ms/step\n",
      "Trial: 1, MSE: 0.14359566643103358, Best MSE: 0.14359566643103358\n"
     ]
    },
    {
     "name": "stderr",
     "output_type": "stream",
     "text": [
      "/Library/Frameworks/Python.framework/Versions/3.10/lib/python3.10/site-packages/keras/src/layers/rnn/rnn.py:204: UserWarning: Do not pass an `input_shape`/`input_dim` argument to a layer. When using Sequential models, prefer using an `Input(shape)` object as the first layer in the model instead.\n",
      "  super().__init__(**kwargs)\n"
     ]
    },
    {
     "name": "stdout",
     "output_type": "stream",
     "text": [
      "\u001b[1m26/26\u001b[0m \u001b[32m━━━━━━━━━━━━━━━━━━━━\u001b[0m\u001b[37m\u001b[0m \u001b[1m0s\u001b[0m 8ms/step\n",
      "Trial: 2, MSE: 0.0991614701797639, Best MSE: 0.0991614701797639\n"
     ]
    },
    {
     "name": "stderr",
     "output_type": "stream",
     "text": [
      "/Library/Frameworks/Python.framework/Versions/3.10/lib/python3.10/site-packages/keras/src/layers/rnn/rnn.py:204: UserWarning: Do not pass an `input_shape`/`input_dim` argument to a layer. When using Sequential models, prefer using an `Input(shape)` object as the first layer in the model instead.\n",
      "  super().__init__(**kwargs)\n"
     ]
    },
    {
     "name": "stdout",
     "output_type": "stream",
     "text": [
      "\u001b[1m26/26\u001b[0m \u001b[32m━━━━━━━━━━━━━━━━━━━━\u001b[0m\u001b[37m\u001b[0m \u001b[1m0s\u001b[0m 10ms/step\n",
      "Trial: 3, MSE: 0.020255504011639235, Best MSE: 0.020255504011639235\n"
     ]
    },
    {
     "name": "stderr",
     "output_type": "stream",
     "text": [
      "/Library/Frameworks/Python.framework/Versions/3.10/lib/python3.10/site-packages/keras/src/layers/rnn/rnn.py:204: UserWarning: Do not pass an `input_shape`/`input_dim` argument to a layer. When using Sequential models, prefer using an `Input(shape)` object as the first layer in the model instead.\n",
      "  super().__init__(**kwargs)\n"
     ]
    },
    {
     "name": "stdout",
     "output_type": "stream",
     "text": [
      "\u001b[1m26/26\u001b[0m \u001b[32m━━━━━━━━━━━━━━━━━━━━\u001b[0m\u001b[37m\u001b[0m \u001b[1m1s\u001b[0m 25ms/step\n",
      "Trial: 4, MSE: 0.0761475798612021, Best MSE: 0.020255504011639235\n"
     ]
    },
    {
     "name": "stderr",
     "output_type": "stream",
     "text": [
      "/Library/Frameworks/Python.framework/Versions/3.10/lib/python3.10/site-packages/keras/src/layers/rnn/rnn.py:204: UserWarning: Do not pass an `input_shape`/`input_dim` argument to a layer. When using Sequential models, prefer using an `Input(shape)` object as the first layer in the model instead.\n",
      "  super().__init__(**kwargs)\n"
     ]
    },
    {
     "name": "stdout",
     "output_type": "stream",
     "text": [
      "\u001b[1m26/26\u001b[0m \u001b[32m━━━━━━━━━━━━━━━━━━━━\u001b[0m\u001b[37m\u001b[0m \u001b[1m0s\u001b[0m 10ms/step\n",
      "Trial: 5, MSE: 0.07030642643842432, Best MSE: 0.020255504011639235\n"
     ]
    },
    {
     "name": "stderr",
     "output_type": "stream",
     "text": [
      "/Library/Frameworks/Python.framework/Versions/3.10/lib/python3.10/site-packages/keras/src/layers/rnn/rnn.py:204: UserWarning: Do not pass an `input_shape`/`input_dim` argument to a layer. When using Sequential models, prefer using an `Input(shape)` object as the first layer in the model instead.\n",
      "  super().__init__(**kwargs)\n"
     ]
    },
    {
     "name": "stdout",
     "output_type": "stream",
     "text": [
      "\u001b[1m26/26\u001b[0m \u001b[32m━━━━━━━━━━━━━━━━━━━━\u001b[0m\u001b[37m\u001b[0m \u001b[1m0s\u001b[0m 12ms/step\n",
      "Trial: 6, MSE: 0.009180759251104311, Best MSE: 0.009180759251104311\n"
     ]
    },
    {
     "name": "stderr",
     "output_type": "stream",
     "text": [
      "/Library/Frameworks/Python.framework/Versions/3.10/lib/python3.10/site-packages/keras/src/layers/rnn/rnn.py:204: UserWarning: Do not pass an `input_shape`/`input_dim` argument to a layer. When using Sequential models, prefer using an `Input(shape)` object as the first layer in the model instead.\n",
      "  super().__init__(**kwargs)\n"
     ]
    },
    {
     "name": "stdout",
     "output_type": "stream",
     "text": [
      "\u001b[1m26/26\u001b[0m \u001b[32m━━━━━━━━━━━━━━━━━━━━\u001b[0m\u001b[37m\u001b[0m \u001b[1m1s\u001b[0m 15ms/step\n",
      "Trial: 7, MSE: 0.0767100676659199, Best MSE: 0.009180759251104311\n"
     ]
    },
    {
     "name": "stderr",
     "output_type": "stream",
     "text": [
      "/Library/Frameworks/Python.framework/Versions/3.10/lib/python3.10/site-packages/keras/src/layers/rnn/rnn.py:204: UserWarning: Do not pass an `input_shape`/`input_dim` argument to a layer. When using Sequential models, prefer using an `Input(shape)` object as the first layer in the model instead.\n",
      "  super().__init__(**kwargs)\n"
     ]
    },
    {
     "name": "stdout",
     "output_type": "stream",
     "text": [
      "\u001b[1m26/26\u001b[0m \u001b[32m━━━━━━━━━━━━━━━━━━━━\u001b[0m\u001b[37m\u001b[0m \u001b[1m1s\u001b[0m 34ms/step\n",
      "Trial: 8, MSE: 0.0068249033837835885, Best MSE: 0.0068249033837835885\n"
     ]
    },
    {
     "name": "stderr",
     "output_type": "stream",
     "text": [
      "/Library/Frameworks/Python.framework/Versions/3.10/lib/python3.10/site-packages/keras/src/layers/rnn/rnn.py:204: UserWarning: Do not pass an `input_shape`/`input_dim` argument to a layer. When using Sequential models, prefer using an `Input(shape)` object as the first layer in the model instead.\n",
      "  super().__init__(**kwargs)\n"
     ]
    },
    {
     "name": "stdout",
     "output_type": "stream",
     "text": [
      "\u001b[1m26/26\u001b[0m \u001b[32m━━━━━━━━━━━━━━━━━━━━\u001b[0m\u001b[37m\u001b[0m \u001b[1m1s\u001b[0m 22ms/step\n",
      "Trial: 9, MSE: 0.0035131799773845756, Best MSE: 0.0035131799773845756\n"
     ]
    },
    {
     "name": "stderr",
     "output_type": "stream",
     "text": [
      "/Library/Frameworks/Python.framework/Versions/3.10/lib/python3.10/site-packages/keras/src/layers/rnn/rnn.py:204: UserWarning: Do not pass an `input_shape`/`input_dim` argument to a layer. When using Sequential models, prefer using an `Input(shape)` object as the first layer in the model instead.\n",
      "  super().__init__(**kwargs)\n"
     ]
    },
    {
     "name": "stdout",
     "output_type": "stream",
     "text": [
      "\u001b[1m26/26\u001b[0m \u001b[32m━━━━━━━━━━━━━━━━━━━━\u001b[0m\u001b[37m\u001b[0m \u001b[1m0s\u001b[0m 5ms/step\n",
      "Trial: 10, MSE: 0.006799423504121108, Best MSE: 0.0035131799773845756\n",
      "Best Hyperparameters: {'num_layers': 2, 'num_units': 256, 'learning_rate': 0.01, 'optimizer': 'rmsprop', 'dropout': 0.1}\n"
     ]
    }
   ],
   "source": [
    "\n",
    "def build_lstm_model(num_layers, num_units, learning_rate, optimizer, dropout):\n",
    "    model = Sequential()\n",
    "    \n",
    "    # Add LSTM layers\n",
    "    for _ in range(num_layers):\n",
    "        model.add(LSTM(units=num_units, input_shape=(X_train.shape[1], 1), return_sequences=True))\n",
    "        model.add(Dropout(dropout))\n",
    "    \n",
    "    # Add the final LSTM layer\n",
    "    model.add(LSTM(units=num_units))\n",
    "    model.add(Dropout(dropout))\n",
    "    \n",
    "    # Add the output layer\n",
    "    model.add(Dense(1))\n",
    "    \n",
    "    # Set the optimizer based on the provided parameter\n",
    "    if optimizer == 'adam':\n",
    "        opt = Adam(learning_rate=learning_rate)\n",
    "    elif optimizer == 'rmsprop':\n",
    "        opt = RMSprop(learning_rate=learning_rate)\n",
    "    elif optimizer == 'sgd':\n",
    "        opt = SGD(learning_rate=learning_rate)\n",
    "    else:\n",
    "        raise ValueError(\"Invalid optimizer specified.\")\n",
    "    \n",
    "    # Compile the model\n",
    "    model.compile(loss='mean_squared_error', optimizer=opt)\n",
    "    \n",
    "    return model\n",
    "\n",
    "# Define the search space for hyperparameters\n",
    "param_space = {\n",
    "    'num_layers': [1, 2, 3],\n",
    "    'num_units': [32, 64, 128, 256],\n",
    "    'learning_rate': [1e-5, 1e-4, 1e-3, 1e-2],\n",
    "    'optimizer': ['adam', 'rmsprop', 'sgd'],\n",
    "    'dropout': [0.0, 0.1, 0.2, 0.3, 0.4, 0.5]\n",
    "}\n",
    "\n",
    "# Perform hyperparameter tuning with random search\n",
    "best_params = None\n",
    "best_mse = float('inf')\n",
    "\n",
    "for _ in range(10):  # Number of random trials\n",
    "    current_params = {\n",
    "        'num_layers': random.choice(param_space['num_layers']),\n",
    "        'num_units': random.choice(param_space['num_units']),\n",
    "        'learning_rate': random.choice(param_space['learning_rate']),\n",
    "        'optimizer': random.choice(param_space['optimizer']),\n",
    "        'dropout': random.choice(param_space['dropout'])\n",
    "    }\n",
    "\n",
    "    model = build_lstm_model(**current_params)\n",
    "\n",
    "    # Train the model\n",
    "    model.fit(X_train, y_train, epochs=10, batch_size=32, verbose=0)\n",
    "\n",
    "    # Evaluate the model on the validation set\n",
    "    y_pred = model.predict(X_test)\n",
    "    mse = mean_squared_error(y_test, y_pred)\n",
    "\n",
    "    # Update the best hyperparameters if the current configuration is better\n",
    "    if mse < best_mse:\n",
    "        best_params = current_params\n",
    "        best_mse = mse\n",
    "\n",
    "    print(f\"Trial: {_ + 1}, MSE: {mse}, Best MSE: {best_mse}\")\n",
    "\n",
    "# Print the best hyperparameters found during the random search\n",
    "print(\"Best Hyperparameters:\", best_params)\n"
   ]
  }
 ],
 "metadata": {
  "kernelspec": {
   "display_name": "Python 3",
   "language": "python",
   "name": "python3"
  },
  "language_info": {
   "codemirror_mode": {
    "name": "ipython",
    "version": 3
   },
   "file_extension": ".py",
   "mimetype": "text/x-python",
   "name": "python",
   "nbconvert_exporter": "python",
   "pygments_lexer": "ipython3",
   "version": "3.10.9"
  }
 },
 "nbformat": 4,
 "nbformat_minor": 2
}
