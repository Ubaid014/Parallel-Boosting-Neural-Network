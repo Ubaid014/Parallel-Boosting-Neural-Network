{
 "cells": [
  {
   "cell_type": "code",
   "execution_count": 21,
   "metadata": {},
   "outputs": [],
   "source": [
    "from sklearn.ensemble import RandomForestRegressor\n",
    "import numpy as np\n",
    "import pandas as pd\n",
    "from sklearn.model_selection import train_test_split\n",
    "from sklearn.preprocessing import StandardScaler"
   ]
  },
  {
   "cell_type": "code",
   "execution_count": 22,
   "metadata": {},
   "outputs": [
    {
     "data": {
      "text/html": [
       "<div>\n",
       "<style scoped>\n",
       "    .dataframe tbody tr th:only-of-type {\n",
       "        vertical-align: middle;\n",
       "    }\n",
       "\n",
       "    .dataframe tbody tr th {\n",
       "        vertical-align: top;\n",
       "    }\n",
       "\n",
       "    .dataframe thead th {\n",
       "        text-align: right;\n",
       "    }\n",
       "</style>\n",
       "<table border=\"1\" class=\"dataframe\">\n",
       "  <thead>\n",
       "    <tr style=\"text-align: right;\">\n",
       "      <th></th>\n",
       "      <th>All sky irradiance</th>\n",
       "      <th>Clear sky irradiance</th>\n",
       "      <th>ALLSKY ICI</th>\n",
       "      <th>ALLSKY_SFC_PAR_TOT</th>\n",
       "      <th>ALLSKY_SFC_UV_INDEX</th>\n",
       "      <th>CLRSKY_SFC_PAR_TOT</th>\n",
       "    </tr>\n",
       "  </thead>\n",
       "  <tbody>\n",
       "    <tr>\n",
       "      <th>0</th>\n",
       "      <td>3.58</td>\n",
       "      <td>3.68</td>\n",
       "      <td>0.70</td>\n",
       "      <td>63.57</td>\n",
       "      <td>0.55</td>\n",
       "      <td>66.20</td>\n",
       "    </tr>\n",
       "    <tr>\n",
       "      <th>1</th>\n",
       "      <td>3.20</td>\n",
       "      <td>3.60</td>\n",
       "      <td>0.62</td>\n",
       "      <td>57.87</td>\n",
       "      <td>0.53</td>\n",
       "      <td>65.50</td>\n",
       "    </tr>\n",
       "    <tr>\n",
       "      <th>2</th>\n",
       "      <td>2.52</td>\n",
       "      <td>3.46</td>\n",
       "      <td>0.49</td>\n",
       "      <td>47.44</td>\n",
       "      <td>0.50</td>\n",
       "      <td>64.25</td>\n",
       "    </tr>\n",
       "    <tr>\n",
       "      <th>3</th>\n",
       "      <td>2.93</td>\n",
       "      <td>3.48</td>\n",
       "      <td>0.57</td>\n",
       "      <td>55.34</td>\n",
       "      <td>0.49</td>\n",
       "      <td>65.82</td>\n",
       "    </tr>\n",
       "    <tr>\n",
       "      <th>4</th>\n",
       "      <td>0.78</td>\n",
       "      <td>3.42</td>\n",
       "      <td>0.15</td>\n",
       "      <td>16.23</td>\n",
       "      <td>0.21</td>\n",
       "      <td>64.96</td>\n",
       "    </tr>\n",
       "  </tbody>\n",
       "</table>\n",
       "</div>"
      ],
      "text/plain": [
       "   All sky irradiance  Clear sky irradiance  ALLSKY ICI  ALLSKY_SFC_PAR_TOT  \\\n",
       "0                3.58                  3.68        0.70               63.57   \n",
       "1                3.20                  3.60        0.62               57.87   \n",
       "2                2.52                  3.46        0.49               47.44   \n",
       "3                2.93                  3.48        0.57               55.34   \n",
       "4                0.78                  3.42        0.15               16.23   \n",
       "\n",
       "   ALLSKY_SFC_UV_INDEX  CLRSKY_SFC_PAR_TOT  \n",
       "0                 0.55               66.20  \n",
       "1                 0.53               65.50  \n",
       "2                 0.50               64.25  \n",
       "3                 0.49               65.82  \n",
       "4                 0.21               64.96  "
      ]
     },
     "execution_count": 22,
     "metadata": {},
     "output_type": "execute_result"
    }
   ],
   "source": [
    "df=pd.read_csv(\"San Diego_featured_data.csv\")\n",
    "df.head()"
   ]
  },
  {
   "cell_type": "code",
   "execution_count": 23,
   "metadata": {},
   "outputs": [
    {
     "data": {
      "text/plain": [
       "All sky irradiance      0\n",
       "Clear sky irradiance    0\n",
       "ALLSKY ICI              0\n",
       "ALLSKY_SFC_PAR_TOT      0\n",
       "ALLSKY_SFC_UV_INDEX     0\n",
       "CLRSKY_SFC_PAR_TOT      0\n",
       "dtype: int64"
      ]
     },
     "execution_count": 23,
     "metadata": {},
     "output_type": "execute_result"
    }
   ],
   "source": [
    "df.isnull().sum()"
   ]
  },
  {
   "cell_type": "code",
   "execution_count": 24,
   "metadata": {},
   "outputs": [],
   "source": [
    "y= df[['All sky irradiance']]\n",
    "scaler_X = StandardScaler()\n",
    "X_scaled = scaler_X.fit_transform(df)\n",
    "\n",
    "scaler_y = StandardScaler()\n",
    "y_scaled = scaler_y.fit_transform(y.values.reshape(-1, 1)).flatten() "
   ]
  },
  {
   "cell_type": "code",
   "execution_count": 25,
   "metadata": {},
   "outputs": [],
   "source": [
    "X_train, X_test, y_train, y_test = train_test_split(X_scaled, y_scaled, test_size = 0.2,shuffle=False)"
   ]
  },
  {
   "cell_type": "code",
   "execution_count": 26,
   "metadata": {},
   "outputs": [
    {
     "data": {
      "text/plain": [
       "{'n_estimators': 60,\n",
       " 'min_samples_split': 2,\n",
       " 'min_samples_leaf': 2,\n",
       " 'max_samples': 0.5,\n",
       " 'max_features': 8,\n",
       " 'max_depth': 6,\n",
       " 'bootstrap': True}"
      ]
     },
     "execution_count": 26,
     "metadata": {},
     "output_type": "execute_result"
    }
   ],
   "source": [
    "{'n_estimators': 60,\n",
    " 'min_samples_split': 2,\n",
    " 'min_samples_leaf': 2,\n",
    " 'max_samples': 0.5,\n",
    " 'max_features': 8,\n",
    " 'max_depth': 6,\n",
    " 'bootstrap': True}"
   ]
  },
  {
   "cell_type": "code",
   "execution_count": 27,
   "metadata": {},
   "outputs": [
    {
     "name": "stdout",
     "output_type": "stream",
     "text": [
      "continential: 0.14445996284484863\n"
     ]
    }
   ],
   "source": [
    "model=RandomForestRegressor(n_estimators=60,min_samples_split=2,min_samples_leaf=3,max_samples=0.5,max_features=8,max_depth=6)\n",
    "import time\n",
    "start= time.time()\n",
    "model.fit(X_train,y_train)\n",
    "end=time.time()\n",
    "continential=end-start\n",
    "print(\"continential:\",continential)"
   ]
  },
  {
   "cell_type": "code",
   "execution_count": 28,
   "metadata": {},
   "outputs": [
    {
     "name": "stdout",
     "output_type": "stream",
     "text": [
      "continential: 0.002875089645385742\n"
     ]
    },
    {
     "data": {
      "text/plain": [
       "array([-1.49591885, -0.88560469, -0.05083244, -0.29331311,  0.89096572,\n",
       "       -1.33707037,  0.46390938, -0.48935028,  0.8946914 ,  0.14827142,\n",
       "        0.84566134,  0.90212531, -0.01014573,  0.94440419,  1.17294929,\n",
       "        0.84061042,  0.92453229,  1.24870574, -0.79965223, -0.27878477,\n",
       "        0.36689514,  1.04148644, -0.21841543,  0.59801454, -0.78223285,\n",
       "       -0.89911886,  0.76604645, -0.48935028, -0.80766035,  0.58559109,\n",
       "       -0.86952795,  0.20648473,  1.41773204,  1.70843335,  1.63600461,\n",
       "        0.40659193,  0.91922956, -0.11299386,  0.10855241,  1.20552937,\n",
       "        1.6736375 ,  1.54736093,  1.52634304,  1.31180106,  1.01597989,\n",
       "        1.09350569,  0.76604645, -1.19067387, -0.41600474,  1.18342524,\n",
       "        1.86885461,  1.58261537,  1.88910496,  2.01686403,  2.0516741 ,\n",
       "        1.84277872,  0.82872921,  0.14827142, -0.35960691,  1.443573  ,\n",
       "        1.76435051,  1.50136981,  1.22813873,  1.65435735,  1.70234496,\n",
       "        0.30916715,  1.01863951,  2.05610856,  2.06683815,  2.03484251,\n",
       "        1.01597989,  1.54067998,  1.15955585,  1.01340681,  1.71415406,\n",
       "        1.14592812, -0.70086626, -0.32106303,  1.42192586,  1.53221494,\n",
       "        0.91922956,  0.10186811,  1.70234496, -0.96394968, -0.12967003,\n",
       "        1.443573  ,  2.13510562,  2.15150969,  2.15150969,  2.14418407,\n",
       "        1.74134453,  0.51133842,  1.97782658,  1.97940298,  0.96684618,\n",
       "       -0.5246146 ,  1.09350569,  0.48221746,  0.88139835, -0.2152774 ,\n",
       "       -0.6001262 , -0.64546889, -0.28561348, -0.59355459, -0.06968393,\n",
       "        1.26557944, -0.03830897, -0.23971026,  0.40659193,  0.87745085,\n",
       "       -0.05083244,  1.50136981,  1.76628704,  1.93929896,  2.10670932,\n",
       "        2.05780092,  1.71415406,  1.22813873,  1.87137715,  1.63600461,\n",
       "        1.35489874,  1.91395801,  1.35489874,  0.99281816,  1.5766632 ,\n",
       "        1.51719316,  1.60548682,  1.70843335,  1.47636105,  1.01340681,\n",
       "        0.319988  , -0.14748243,  0.5645508 ,  0.51133842,  1.33641895,\n",
       "        0.71238288,  0.84061042,  0.48221746,  0.72390613,  0.83461383,\n",
       "        1.71036989,  0.83068337, -0.49330475, -0.06101356, -0.16793656,\n",
       "       -0.31335539,  1.30515568,  1.39714904,  1.48537316,  1.61192837,\n",
       "        1.44904552,  1.32065195,  1.31746818,  0.6581816 ,  1.52548984,\n",
       "        1.30515568,  0.38463307,  0.27233006,  0.71238288,  0.37048339,\n",
       "        0.64988534,  0.03864804,  1.03484915,  1.00333515, -0.46874367,\n",
       "        0.09843369,  0.02451278,  1.17294929,  1.13918909,  1.31746818,\n",
       "        1.24870574,  0.53209713,  0.92453229,  0.702583  ,  0.9498084 ,\n",
       "        0.90028981,  1.11265231,  1.05685061, -0.79371918, -1.10527501,\n",
       "        0.29462511, -0.10268793, -0.16117088,  0.3762262 ,  0.16681418,\n",
       "        0.31142244,  0.57977738,  0.74868919,  0.6581816 ,  0.72390613,\n",
       "        0.84061042,  0.10460571,  0.33192601,  0.78197268,  0.83461383,\n",
       "        0.68043701,  0.10186811, -0.45473823, -0.63926378,  0.35026329,\n",
       "        0.29944444,  0.58559109,  0.44408807,  0.48221746,  0.37724862,\n",
       "        0.09182169,  0.23469587, -0.77464071, -0.1525379 , -0.64546889,\n",
       "       -0.44022145, -0.35456453, -0.16793656,  0.31004177,  0.31142244,\n",
       "        0.20333853, -0.26231874, -0.03830897, -0.18005814, -0.15780749,\n",
       "       -0.67877793, -0.9911372 , -1.43477086, -1.51427014, -1.45021739,\n",
       "       -1.34831141, -0.9911372 , -0.15780749,  0.02136227, -0.06968393,\n",
       "       -0.12241408, -0.1525379 , -0.81603348, -0.32341998, -0.39839166,\n",
       "       -0.58826578, -0.31335539, -1.31514289, -1.45770853, -0.73021718,\n",
       "       -1.16975662, -0.47613352, -0.35960691, -0.36701305, -0.4603168 ,\n",
       "       -0.49330475, -0.54827085, -0.44022145, -0.43222541, -0.62926617,\n",
       "       -0.89911886, -0.94208227, -0.7374693 , -0.99861362, -1.24001616,\n",
       "       -1.20543836, -0.86509926, -1.09310049, -0.96182135, -0.56224638,\n",
       "       -0.59355459, -0.73021718, -0.62926617, -0.66163258, -0.70279444,\n",
       "       -0.67877793, -0.68581351, -0.92063948, -0.73434677, -2.34862189,\n",
       "       -1.34506227, -1.35282489, -1.75032611, -1.17830756, -1.92094964,\n",
       "       -0.92489544, -1.23603566, -0.82013601, -0.78223285, -1.7324989 ,\n",
       "       -0.83544123, -0.85362308, -0.79965223, -0.76040471, -1.16761633,\n",
       "       -1.76223777, -2.24600951, -0.83544123, -1.10527501, -1.93323063,\n",
       "       -1.04673108, -0.95805   , -0.77099958, -1.17368491, -0.77464071,\n",
       "       -0.8976942 , -1.17368491, -1.29224474, -1.4947953 , -1.54243687,\n",
       "       -1.32800942, -1.00951692, -0.96115198, -0.78223285, -0.65316211,\n",
       "       -0.7374693 , -0.76040471, -0.58826578, -0.55125647, -0.59355459,\n",
       "       -0.60790109, -1.19176085, -1.66009878, -1.6797064 , -0.61611309,\n",
       "       -1.09310049, -1.78311259, -0.79371918, -1.19067387, -0.49643836,\n",
       "       -0.55506512, -0.63926378, -1.06631545, -0.36209684, -0.95163695,\n",
       "       -1.77564768, -0.98733628, -1.28753534, -0.42206687, -0.11299386,\n",
       "       -0.28561348, -0.73021718, -1.26759654, -1.78403118, -0.48935028,\n",
       "       -0.58826578, -0.35456453, -1.06631545, -0.31335539, -1.00951692,\n",
       "       -0.42206687,  0.10855241,  0.25837157,  0.20648473, -0.02234673,\n",
       "        0.35926734,  0.43257206,  0.42130525,  0.19583769,  0.42058067,\n",
       "        0.47754102,  0.37724862,  0.49457543,  0.63425439,  0.63425439,\n",
       "       -1.27205296,  0.49457543,  0.64280004,  0.46966233, -1.3491648 ,\n",
       "        0.23469587,  0.5645508 ,  0.16681418,  0.44572333,  0.46390938,\n",
       "        0.03469271, -0.36701305, -0.7441092 ,  0.57977738,  0.76604645,\n",
       "        0.83068337,  0.76604645,  0.82566477,  0.9498084 ,  1.01863951,\n",
       "        0.52153323,  1.13237066, -0.57270543,  0.76604645,  1.27166698,\n",
       "        1.31180106,  1.05247508,  0.702583  ,  1.33641895])"
      ]
     },
     "execution_count": 28,
     "metadata": {},
     "output_type": "execute_result"
    }
   ],
   "source": [
    "start=time.time()\n",
    "pred = model.predict(X_test)\n",
    "end=time.time()\n",
    "continential=end-start\n",
    "print(\"continential:\",continential)\n",
    "pred\n"
   ]
  },
  {
   "cell_type": "code",
   "execution_count": 29,
   "metadata": {},
   "outputs": [
    {
     "data": {
      "text/plain": [
       "(384,)"
      ]
     },
     "execution_count": 29,
     "metadata": {},
     "output_type": "execute_result"
    }
   ],
   "source": [
    "pred.shape"
   ]
  },
  {
   "cell_type": "code",
   "execution_count": 30,
   "metadata": {},
   "outputs": [],
   "source": [
    "prediction = pred.reshape(pred.shape[0], 1)"
   ]
  },
  {
   "cell_type": "code",
   "execution_count": 31,
   "metadata": {},
   "outputs": [],
   "source": [
    "predictions = scaler_y.inverse_transform(prediction.reshape(-1, 1))\n",
    "Actual = scaler_y.inverse_transform(y_test.reshape(-1, 1))"
   ]
  },
  {
   "cell_type": "code",
   "execution_count": 32,
   "metadata": {},
   "outputs": [],
   "source": [
    "Calculated =pd.DataFrame(predictions, columns = ['Prediction'])\n",
    "Actual=pd.DataFrame(Actual, columns=[\"Actual\"])"
   ]
  },
  {
   "cell_type": "code",
   "execution_count": 33,
   "metadata": {},
   "outputs": [
    {
     "name": "stdout",
     "output_type": "stream",
     "text": [
      "File saved to /Users/ubaidahmed/Desktop/Daily_SI_forecasting /San Diego/Models/RandomForest/RandomForest_output.csv\n"
     ]
    }
   ],
   "source": [
    "import os\n",
    "import pandas as pd\n",
    "\n",
    "# Concatenate Calculated and Actual DataFrames along the columns\n",
    "combined = pd.concat([Calculated, Actual], axis=1)\n",
    "\n",
    "# Define the path to the existing folder\n",
    "save_dir = \"/Users/ubaidahmed/Desktop/Daily_SI_forecasting /San Diego/Models/RandomForest\"\n",
    "\n",
    "# Define the filename within the specified folder\n",
    "filename = os.path.join(save_dir, \"RandomForest_output.csv\")\n",
    "\n",
    "# Save the combined DataFrame to CSV\n",
    "combined.to_csv(filename, index=False)\n",
    "\n",
    "print(f\"File saved to {filename}\")\n"
   ]
  },
  {
   "cell_type": "markdown",
   "metadata": {},
   "source": [
    "# Error Calculation"
   ]
  },
  {
   "cell_type": "code",
   "execution_count": 1,
   "metadata": {},
   "outputs": [],
   "source": [
    "import pandas as pd\n",
    "import numpy as np"
   ]
  },
  {
   "cell_type": "code",
   "execution_count": 2,
   "metadata": {},
   "outputs": [
    {
     "data": {
      "text/plain": [
       "['Prediction', 'Actual']"
      ]
     },
     "execution_count": 2,
     "metadata": {},
     "output_type": "execute_result"
    }
   ],
   "source": [
    "df=pd.read_csv(\"RandomForest_output.csv\")\n",
    "features= list(df)\n",
    "features"
   ]
  },
  {
   "cell_type": "code",
   "execution_count": 3,
   "metadata": {},
   "outputs": [],
   "source": [
    "df=df*1000"
   ]
  },
  {
   "cell_type": "code",
   "execution_count": 4,
   "metadata": {},
   "outputs": [],
   "source": [
    "z= df[\"Actual\"]\n",
    "x= df[\"Prediction\"]"
   ]
  },
  {
   "cell_type": "code",
   "execution_count": 5,
   "metadata": {},
   "outputs": [
    {
     "name": "stdout",
     "output_type": "stream",
     "text": [
      "Mean Square Error is: 689.4507973665131\n",
      "Root Mean Square Error is: 26.257395098648175\n",
      "Mean Absolute Error is: 11.005265200246527\n",
      "Mean Absolute Percentage Error is: 0.2448773938630353\n"
     ]
    }
   ],
   "source": [
    "import math\n",
    "from sklearn.metrics import mean_squared_error\n",
    "MSE=mean_squared_error(z,x)\n",
    "RMSE= math.sqrt(MSE)\n",
    "from sklearn.metrics import mean_absolute_error\n",
    "MAE= mean_absolute_error(z,x)\n",
    "from sklearn.metrics import mean_absolute_percentage_error\n",
    "MAPE= (mean_absolute_percentage_error(z,x))*100\n",
    "print(\"Mean Square Error is:\",MSE)\n",
    "print(\"Root Mean Square Error is:\",RMSE)\n",
    "print(\"Mean Absolute Error is:\",MAE)\n",
    "print(\"Mean Absolute Percentage Error is:\",MAPE)\n"
   ]
  },
  {
   "cell_type": "code",
   "execution_count": 6,
   "metadata": {},
   "outputs": [
    {
     "name": "stdout",
     "output_type": "stream",
     "text": [
      "Max 8532.934656084657\n",
      "Min 1109.6564153439147\n",
      "Mean 5227.342822524414\n"
     ]
    }
   ],
   "source": [
    "max=x.max()\n",
    "min=x.min()\n",
    "mean=x.mean()\n",
    "\n",
    "print(\"Max\",max)\n",
    "print(\"Min\",min)\n",
    "print('Mean',mean)"
   ]
  },
  {
   "cell_type": "code",
   "execution_count": 7,
   "metadata": {},
   "outputs": [
    {
     "name": "stdout",
     "output_type": "stream",
     "text": [
      "Normalized Root Mean Square Error: 0.35371697310955225\n"
     ]
    }
   ],
   "source": [
    "NRMSE= (RMSE/(max-min))*100\n",
    "print(\"Normalized Root Mean Square Error:\",NRMSE)"
   ]
  },
  {
   "cell_type": "code",
   "execution_count": 8,
   "metadata": {},
   "outputs": [
    {
     "name": "stdout",
     "output_type": "stream",
     "text": [
      "Normalized Root Mean Square Error: 0.5023086487747865\n"
     ]
    }
   ],
   "source": [
    "NRMSE= (RMSE/(mean))*100\n",
    "print(\"Normalized Root Mean Square Error:\",NRMSE)"
   ]
  },
  {
   "cell_type": "code",
   "execution_count": 9,
   "metadata": {},
   "outputs": [],
   "source": [
    "relative_errors = (z - x) / z\n",
    "squared_relative_errors = relative_errors ** 2\n",
    "abs_relative_errors = np.abs(relative_errors)"
   ]
  },
  {
   "cell_type": "code",
   "execution_count": 10,
   "metadata": {},
   "outputs": [],
   "source": [
    "msre = np.mean(squared_relative_errors)\n",
    "rmsre = np.sqrt(msre)\n",
    "mare = np.mean(abs_relative_errors)\n",
    "rmspe = np.sqrt(np.mean((abs_relative_errors * 100) ** 2))"
   ]
  },
  {
   "cell_type": "code",
   "execution_count": 11,
   "metadata": {},
   "outputs": [
    {
     "name": "stdout",
     "output_type": "stream",
     "text": [
      "Mean Square Relative Error is: 4.219916157845575e-05\n",
      "Root Mean Square Relative Error is: 0.006496088175083198\n",
      "Mean Absolute Relative Error is: 0.002448773938630353\n",
      "Root Mean Square Percentage Error is: 0.6496088175083198\n"
     ]
    }
   ],
   "source": [
    "print(\"Mean Square Relative Error is:\",msre)\n",
    "print(\"Root Mean Square Relative Error is:\",rmsre)\n",
    "print(\"Mean Absolute Relative Error is:\",mare)\n",
    "print(\"Root Mean Square Percentage Error is:\",rmspe)"
   ]
  }
 ],
 "metadata": {
  "kernelspec": {
   "display_name": "Python 3.10.7 64-bit",
   "language": "python",
   "name": "python3"
  },
  "language_info": {
   "codemirror_mode": {
    "name": "ipython",
    "version": 3
   },
   "file_extension": ".py",
   "mimetype": "text/x-python",
   "name": "python",
   "nbconvert_exporter": "python",
   "pygments_lexer": "ipython3",
   "version": "3.10.9"
  },
  "orig_nbformat": 4,
  "vscode": {
   "interpreter": {
    "hash": "ac4210170004fc925580c073d42b7c18005567bca7a1d143f4e4d5a93e6c63c2"
   }
  }
 },
 "nbformat": 4,
 "nbformat_minor": 2
}
