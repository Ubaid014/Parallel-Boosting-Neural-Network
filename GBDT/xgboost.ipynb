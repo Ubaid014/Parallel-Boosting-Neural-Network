{
 "cells": [
  {
   "cell_type": "code",
   "execution_count": 1,
   "metadata": {},
   "outputs": [],
   "source": [
    "from xgboost import XGBRegressor\n",
    "import numpy as np\n",
    "import pandas as pd\n",
    "from sklearn.model_selection import train_test_split\n",
    "from sklearn.preprocessing import StandardScaler"
   ]
  },
  {
   "cell_type": "code",
   "execution_count": 2,
   "metadata": {},
   "outputs": [
    {
     "data": {
      "text/html": [
       "<div>\n",
       "<style scoped>\n",
       "    .dataframe tbody tr th:only-of-type {\n",
       "        vertical-align: middle;\n",
       "    }\n",
       "\n",
       "    .dataframe tbody tr th {\n",
       "        vertical-align: top;\n",
       "    }\n",
       "\n",
       "    .dataframe thead th {\n",
       "        text-align: right;\n",
       "    }\n",
       "</style>\n",
       "<table border=\"1\" class=\"dataframe\">\n",
       "  <thead>\n",
       "    <tr style=\"text-align: right;\">\n",
       "      <th></th>\n",
       "      <th>All sky irradiance</th>\n",
       "      <th>Clear sky irradiance</th>\n",
       "      <th>ALLSKY ICI</th>\n",
       "      <th>ALLSKY_SFC_PAR_TOT</th>\n",
       "      <th>ALLSKY_SFC_UV_INDEX</th>\n",
       "      <th>CLRSKY_SFC_PAR_TOT</th>\n",
       "    </tr>\n",
       "  </thead>\n",
       "  <tbody>\n",
       "    <tr>\n",
       "      <th>0</th>\n",
       "      <td>3.58</td>\n",
       "      <td>3.68</td>\n",
       "      <td>0.70</td>\n",
       "      <td>63.57</td>\n",
       "      <td>0.55</td>\n",
       "      <td>66.20</td>\n",
       "    </tr>\n",
       "    <tr>\n",
       "      <th>1</th>\n",
       "      <td>3.20</td>\n",
       "      <td>3.60</td>\n",
       "      <td>0.62</td>\n",
       "      <td>57.87</td>\n",
       "      <td>0.53</td>\n",
       "      <td>65.50</td>\n",
       "    </tr>\n",
       "    <tr>\n",
       "      <th>2</th>\n",
       "      <td>2.52</td>\n",
       "      <td>3.46</td>\n",
       "      <td>0.49</td>\n",
       "      <td>47.44</td>\n",
       "      <td>0.50</td>\n",
       "      <td>64.25</td>\n",
       "    </tr>\n",
       "    <tr>\n",
       "      <th>3</th>\n",
       "      <td>2.93</td>\n",
       "      <td>3.48</td>\n",
       "      <td>0.57</td>\n",
       "      <td>55.34</td>\n",
       "      <td>0.49</td>\n",
       "      <td>65.82</td>\n",
       "    </tr>\n",
       "    <tr>\n",
       "      <th>4</th>\n",
       "      <td>0.78</td>\n",
       "      <td>3.42</td>\n",
       "      <td>0.15</td>\n",
       "      <td>16.23</td>\n",
       "      <td>0.21</td>\n",
       "      <td>64.96</td>\n",
       "    </tr>\n",
       "  </tbody>\n",
       "</table>\n",
       "</div>"
      ],
      "text/plain": [
       "   All sky irradiance  Clear sky irradiance  ALLSKY ICI  ALLSKY_SFC_PAR_TOT  \\\n",
       "0                3.58                  3.68        0.70               63.57   \n",
       "1                3.20                  3.60        0.62               57.87   \n",
       "2                2.52                  3.46        0.49               47.44   \n",
       "3                2.93                  3.48        0.57               55.34   \n",
       "4                0.78                  3.42        0.15               16.23   \n",
       "\n",
       "   ALLSKY_SFC_UV_INDEX  CLRSKY_SFC_PAR_TOT  \n",
       "0                 0.55               66.20  \n",
       "1                 0.53               65.50  \n",
       "2                 0.50               64.25  \n",
       "3                 0.49               65.82  \n",
       "4                 0.21               64.96  "
      ]
     },
     "execution_count": 2,
     "metadata": {},
     "output_type": "execute_result"
    }
   ],
   "source": [
    "df=pd.read_csv(\"San Diego_featured_data.csv\")\n",
    "df.head()"
   ]
  },
  {
   "cell_type": "code",
   "execution_count": 3,
   "metadata": {},
   "outputs": [
    {
     "data": {
      "text/plain": [
       "(1917, 6)"
      ]
     },
     "execution_count": 3,
     "metadata": {},
     "output_type": "execute_result"
    }
   ],
   "source": [
    "df.shape"
   ]
  },
  {
   "cell_type": "code",
   "execution_count": 4,
   "metadata": {},
   "outputs": [
    {
     "data": {
      "text/plain": [
       "All sky irradiance      0\n",
       "Clear sky irradiance    0\n",
       "ALLSKY ICI              0\n",
       "ALLSKY_SFC_PAR_TOT      0\n",
       "ALLSKY_SFC_UV_INDEX     0\n",
       "CLRSKY_SFC_PAR_TOT      0\n",
       "dtype: int64"
      ]
     },
     "execution_count": 4,
     "metadata": {},
     "output_type": "execute_result"
    }
   ],
   "source": [
    "df.isnull().sum()"
   ]
  },
  {
   "cell_type": "code",
   "execution_count": 5,
   "metadata": {},
   "outputs": [
    {
     "data": {
      "text/html": [
       "<div>\n",
       "<style scoped>\n",
       "    .dataframe tbody tr th:only-of-type {\n",
       "        vertical-align: middle;\n",
       "    }\n",
       "\n",
       "    .dataframe tbody tr th {\n",
       "        vertical-align: top;\n",
       "    }\n",
       "\n",
       "    .dataframe thead th {\n",
       "        text-align: right;\n",
       "    }\n",
       "</style>\n",
       "<table border=\"1\" class=\"dataframe\">\n",
       "  <thead>\n",
       "    <tr style=\"text-align: right;\">\n",
       "      <th></th>\n",
       "      <th>All sky irradiance</th>\n",
       "      <th>Clear sky irradiance</th>\n",
       "      <th>ALLSKY ICI</th>\n",
       "      <th>ALLSKY_SFC_PAR_TOT</th>\n",
       "      <th>ALLSKY_SFC_UV_INDEX</th>\n",
       "      <th>CLRSKY_SFC_PAR_TOT</th>\n",
       "    </tr>\n",
       "  </thead>\n",
       "  <tbody>\n",
       "    <tr>\n",
       "      <th>count</th>\n",
       "      <td>1917.000000</td>\n",
       "      <td>1917.000000</td>\n",
       "      <td>1917.000000</td>\n",
       "      <td>1917.000000</td>\n",
       "      <td>1917.000000</td>\n",
       "      <td>1917.000000</td>\n",
       "    </tr>\n",
       "    <tr>\n",
       "      <th>mean</th>\n",
       "      <td>4.983871</td>\n",
       "      <td>6.196766</td>\n",
       "      <td>0.591205</td>\n",
       "      <td>93.750250</td>\n",
       "      <td>-25.176808</td>\n",
       "      <td>114.777783</td>\n",
       "    </tr>\n",
       "    <tr>\n",
       "      <th>std</th>\n",
       "      <td>1.650000</td>\n",
       "      <td>1.759774</td>\n",
       "      <td>0.135167</td>\n",
       "      <td>31.056769</td>\n",
       "      <td>161.037349</td>\n",
       "      <td>33.397850</td>\n",
       "    </tr>\n",
       "    <tr>\n",
       "      <th>min</th>\n",
       "      <td>0.710000</td>\n",
       "      <td>3.170000</td>\n",
       "      <td>0.100000</td>\n",
       "      <td>14.970000</td>\n",
       "      <td>-999.000000</td>\n",
       "      <td>57.500000</td>\n",
       "    </tr>\n",
       "    <tr>\n",
       "      <th>25%</th>\n",
       "      <td>3.710000</td>\n",
       "      <td>4.500000</td>\n",
       "      <td>0.500000</td>\n",
       "      <td>68.450000</td>\n",
       "      <td>0.740000</td>\n",
       "      <td>82.050000</td>\n",
       "    </tr>\n",
       "    <tr>\n",
       "      <th>50%</th>\n",
       "      <td>4.950000</td>\n",
       "      <td>6.370000</td>\n",
       "      <td>0.620000</td>\n",
       "      <td>93.840000</td>\n",
       "      <td>1.410000</td>\n",
       "      <td>117.660000</td>\n",
       "    </tr>\n",
       "    <tr>\n",
       "      <th>75%</th>\n",
       "      <td>6.240000</td>\n",
       "      <td>7.890000</td>\n",
       "      <td>0.700000</td>\n",
       "      <td>117.910000</td>\n",
       "      <td>1.980000</td>\n",
       "      <td>147.820000</td>\n",
       "    </tr>\n",
       "    <tr>\n",
       "      <th>max</th>\n",
       "      <td>8.860000</td>\n",
       "      <td>9.000000</td>\n",
       "      <td>0.780000</td>\n",
       "      <td>162.740000</td>\n",
       "      <td>2.980000</td>\n",
       "      <td>162.850000</td>\n",
       "    </tr>\n",
       "  </tbody>\n",
       "</table>\n",
       "</div>"
      ],
      "text/plain": [
       "       All sky irradiance  Clear sky irradiance   ALLSKY ICI  \\\n",
       "count         1917.000000           1917.000000  1917.000000   \n",
       "mean             4.983871              6.196766     0.591205   \n",
       "std              1.650000              1.759774     0.135167   \n",
       "min              0.710000              3.170000     0.100000   \n",
       "25%              3.710000              4.500000     0.500000   \n",
       "50%              4.950000              6.370000     0.620000   \n",
       "75%              6.240000              7.890000     0.700000   \n",
       "max              8.860000              9.000000     0.780000   \n",
       "\n",
       "       ALLSKY_SFC_PAR_TOT  ALLSKY_SFC_UV_INDEX  CLRSKY_SFC_PAR_TOT  \n",
       "count         1917.000000          1917.000000         1917.000000  \n",
       "mean            93.750250           -25.176808          114.777783  \n",
       "std             31.056769           161.037349           33.397850  \n",
       "min             14.970000          -999.000000           57.500000  \n",
       "25%             68.450000             0.740000           82.050000  \n",
       "50%             93.840000             1.410000          117.660000  \n",
       "75%            117.910000             1.980000          147.820000  \n",
       "max            162.740000             2.980000          162.850000  "
      ]
     },
     "execution_count": 5,
     "metadata": {},
     "output_type": "execute_result"
    }
   ],
   "source": [
    "df.describe()"
   ]
  },
  {
   "cell_type": "code",
   "execution_count": 6,
   "metadata": {},
   "outputs": [],
   "source": [
    "y= df[['All sky irradiance']]\n",
    "scaler_X = StandardScaler()\n",
    "X_scaled = scaler_X.fit_transform(df)\n",
    "\n",
    "scaler_y = StandardScaler()\n",
    "y_scaled = scaler_y.fit_transform(y.values.reshape(-1, 1)).flatten() "
   ]
  },
  {
   "cell_type": "code",
   "execution_count": 7,
   "metadata": {},
   "outputs": [],
   "source": [
    "X_train, X_test, y_train, y_test = train_test_split(X_scaled, y_scaled, test_size = 0.2,shuffle=False)"
   ]
  },
  {
   "cell_type": "code",
   "execution_count": 8,
   "metadata": {},
   "outputs": [
    {
     "name": "stderr",
     "output_type": "stream",
     "text": [
      "/Library/Frameworks/Python.framework/Versions/3.10/lib/python3.10/site-packages/xgboost/core.py:158: UserWarning: [11:26:43] WARNING: /Users/runner/work/xgboost/xgboost/src/learner.cc:740: \n",
      "Parameters: { \"subsamples\" } are not used.\n",
      "\n",
      "  warnings.warn(smsg, UserWarning)\n"
     ]
    },
    {
     "name": "stdout",
     "output_type": "stream",
     "text": [
      "convergence time: 0.38049888610839844\n"
     ]
    }
   ],
   "source": [
    "model=XGBRegressor(tree_method='approx',subsamples=0.7,n_estimators=300,max_depth=9,learning_rate=0.1,colsample_bytree=1)\n",
    "import time\n",
    "start=time.time()\n",
    "model.fit(X_train,y_train)\n",
    "end=time.time()\n",
    "continential= end-start\n",
    "print(\"convergence time:\",continential)"
   ]
  },
  {
   "cell_type": "code",
   "execution_count": 9,
   "metadata": {},
   "outputs": [
    {
     "name": "stdout",
     "output_type": "stream",
     "text": [
      "inference time: 0.002062082290649414\n"
     ]
    },
    {
     "data": {
      "text/plain": [
       "array([-1.5088574 , -0.8819392 , -0.05225241, -0.29454768,  0.8857173 ,\n",
       "       -1.3465079 ,  0.4512378 , -0.48995304,  0.8843193 ,  0.14350305,\n",
       "        0.8542748 ,  0.9082435 , -0.00875846,  0.93384427,  1.1665018 ,\n",
       "        0.84770185,  0.9299567 ,  1.2457522 , -0.7971883 , -0.27442065,\n",
       "        0.3643816 ,  1.0451764 , -0.21251182,  0.6071014 , -0.79150087,\n",
       "       -0.89625376,  0.7723434 , -0.49083123, -0.8130795 ,  0.58318704,\n",
       "       -0.86411893,  0.2054626 ,  1.4085165 ,  1.700697  ,  1.6526868 ,\n",
       "        0.39847487,  0.9056508 , -0.12465014,  0.11267841,  1.2015045 ,\n",
       "        1.6808056 ,  1.5756462 ,  1.5222566 ,  1.3153857 ,  1.0074817 ,\n",
       "        1.0856228 ,  0.77336574, -1.2057664 , -0.41923505,  1.1961718 ,\n",
       "        1.8431804 ,  1.571384  ,  1.9045733 ,  1.9712667 ,  2.0337055 ,\n",
       "        1.8218092 ,  0.82951725,  0.142904  , -0.35971397,  1.4443796 ,\n",
       "        1.790491  ,  1.4893446 ,  1.224348  ,  1.6526668 ,  1.6864315 ,\n",
       "        0.30736393,  1.019816  ,  2.0490677 ,  2.076817  ,  1.9886721 ,\n",
       "        1.0120082 ,  1.5419183 ,  1.1528895 ,  1.0082352 ,  1.7214862 ,\n",
       "        1.1399702 , -0.6989967 , -0.32875055,  1.4201845 ,  1.5232881 ,\n",
       "        0.91130626,  0.09522496,  1.6821659 , -0.9730435 , -0.12813212,\n",
       "        1.4453603 ,  2.1335597 ,  2.2236042 ,  2.2219408 ,  2.184873  ,\n",
       "        1.7414292 ,  0.50798756,  1.9776591 ,  1.9339796 ,  0.9706712 ,\n",
       "       -0.5179835 ,  1.0816842 ,  0.48371026,  0.860511  , -0.18838038,\n",
       "       -0.6047533 , -0.635695  , -0.2859681 , -0.59352654, -0.0645328 ,\n",
       "        1.2605323 , -0.03878621, -0.24303156,  0.3928708 ,  0.85990727,\n",
       "       -0.05488048,  1.4944628 ,  1.7784331 ,  1.9187975 ,  2.0834873 ,\n",
       "        2.0576777 ,  1.72273   ,  1.2284145 ,  1.8440102 ,  1.6692791 ,\n",
       "        1.3714211 ,  1.8778732 ,  1.3723387 ,  0.9696807 ,  1.5766844 ,\n",
       "        1.4906173 ,  1.5997709 ,  1.7227446 ,  1.4856993 ,  1.0115135 ,\n",
       "        0.32549113, -0.1440285 ,  0.56822354,  0.5091892 ,  1.3708472 ,\n",
       "        0.72026116,  0.8467731 ,  0.48586962,  0.7313949 ,  0.84857106,\n",
       "        1.7164905 ,  0.8323914 , -0.49840212, -0.05628182, -0.16173716,\n",
       "       -0.31338167,  1.2907959 ,  1.371475  ,  1.4875133 ,  1.5980291 ,\n",
       "        1.4449856 ,  1.3243914 ,  1.3176261 ,  0.6621782 ,  1.5278956 ,\n",
       "        1.2897147 ,  0.39759058,  0.27938083,  0.7184013 ,  0.36025268,\n",
       "        0.65684354,  0.03427058,  1.0384846 ,  0.9889169 , -0.4501577 ,\n",
       "        0.09537061,  0.0369949 ,  1.1713935 ,  1.1371385 ,  1.3118489 ,\n",
       "        1.2421778 ,  0.5346774 ,  0.93203753,  0.6910703 ,  0.95180196,\n",
       "        0.8915255 ,  1.1096772 ,  1.0675756 , -0.79949486, -1.1198577 ,\n",
       "        0.2887378 , -0.10467309, -0.16353768,  0.37982553,  0.17491004,\n",
       "        0.3088053 ,  0.5657248 ,  0.75099045,  0.6655174 ,  0.7289245 ,\n",
       "        0.8510988 ,  0.10703925,  0.3388249 ,  0.7823136 ,  0.8529573 ,\n",
       "        0.68573576,  0.09551404, -0.44770104, -0.6400247 ,  0.34190387,\n",
       "        0.28926477,  0.5791061 ,  0.44073042,  0.4852934 ,  0.38253996,\n",
       "        0.09360023,  0.24193579, -0.78179383, -0.14973012, -0.6387902 ,\n",
       "       -0.4469509 , -0.3491111 , -0.17290735,  0.30704126,  0.31421402,\n",
       "        0.20754029, -0.25169513, -0.03238076, -0.1923098 , -0.16440336,\n",
       "       -0.67489827, -0.976161  , -1.4254501 , -1.5124767 , -1.4600072 ,\n",
       "       -1.3480545 , -0.97688663, -0.16063792,  0.03424244, -0.06901209,\n",
       "       -0.12334456, -0.14736287, -0.8130272 , -0.3363688 , -0.3897554 ,\n",
       "       -0.57547563, -0.3155187 , -1.3231932 , -1.4531314 , -0.7223284 ,\n",
       "       -1.1644996 , -0.46793947, -0.35919636, -0.37505305, -0.461033  ,\n",
       "       -0.4989722 , -0.54837584, -0.44682914, -0.42196622, -0.6384492 ,\n",
       "       -0.8974714 , -0.9397476 , -0.7341287 , -1.0004776 , -1.2298051 ,\n",
       "       -1.204411  , -0.8660591 , -1.0951132 , -0.9641214 , -0.5691928 ,\n",
       "       -0.5926958 , -0.72110915, -0.63823515, -0.65222883, -0.7102793 ,\n",
       "       -0.67008615, -0.6829598 , -0.91789144, -0.73273134, -2.3308935 ,\n",
       "       -1.3451712 , -1.3522493 , -1.7120351 , -1.1850985 , -1.8883764 ,\n",
       "       -0.9236701 , -1.2389064 , -0.8095467 , -0.7897559 , -1.7047607 ,\n",
       "       -0.8324723 , -0.84630144, -0.79595953, -0.7604044 , -1.1461494 ,\n",
       "       -1.7510129 , -2.22116   , -0.83235765, -1.1203687 , -1.9285691 ,\n",
       "       -1.0616827 , -0.95662785, -0.77041155, -1.1816052 , -0.7840931 ,\n",
       "       -0.89840335, -1.177922  , -1.2996473 , -1.4960958 , -1.5515878 ,\n",
       "       -1.3275273 , -1.02119   , -0.9579481 , -0.7887738 , -0.6564935 ,\n",
       "       -0.7337256 , -0.75911087, -0.5816394 , -0.55219615, -0.59412104,\n",
       "       -0.60608315, -1.1968119 , -1.6720034 , -1.7003446 , -0.6210633 ,\n",
       "       -1.0916213 , -1.8056623 , -0.7978292 , -1.207263  , -0.511438  ,\n",
       "       -0.549466  , -0.63863885, -1.064739  , -0.36604714, -0.94530696,\n",
       "       -1.8127899 , -0.97638154, -1.2730811 , -0.42543814, -0.12295064,\n",
       "       -0.28572467, -0.72547776, -1.2729403 , -1.8007859 , -0.489913  ,\n",
       "       -0.5758549 , -0.35013598, -1.0654435 , -0.31562135, -1.013152  ,\n",
       "       -0.42390543,  0.11359248,  0.28053826,  0.20616136, -0.01781933,\n",
       "        0.36204636,  0.43484464,  0.4250743 ,  0.19026773,  0.41494656,\n",
       "        0.4853224 ,  0.38324046,  0.49824455,  0.6047768 ,  0.6080811 ,\n",
       "       -1.2737585 ,  0.4991047 ,  0.63830805,  0.46660146, -1.3468393 ,\n",
       "        0.24159136,  0.5682076 ,  0.17483136,  0.450845  ,  0.4511587 ,\n",
       "        0.03449784, -0.37520286, -0.74599195,  0.5681631 ,  0.77587116,\n",
       "        0.82926667,  0.7798984 ,  0.8055767 ,  0.94670355,  1.0146996 ,\n",
       "        0.50932634,  1.1176423 , -0.5663059 ,  0.74624056,  1.2714555 ,\n",
       "        1.3099866 ,  1.068499  ,  0.6920213 ,  1.3639686 ], dtype=float32)"
      ]
     },
     "execution_count": 9,
     "metadata": {},
     "output_type": "execute_result"
    }
   ],
   "source": [
    "start=time.time()\n",
    "pred = model.predict(X_test)\n",
    "end=time.time()\n",
    "continential=end-start\n",
    "print(\"inference time:\",continential)\n",
    "pred\n",
    "\n"
   ]
  },
  {
   "cell_type": "code",
   "execution_count": 10,
   "metadata": {},
   "outputs": [
    {
     "data": {
      "text/plain": [
       "(384,)"
      ]
     },
     "execution_count": 10,
     "metadata": {},
     "output_type": "execute_result"
    }
   ],
   "source": [
    "pred.shape"
   ]
  },
  {
   "cell_type": "code",
   "execution_count": 11,
   "metadata": {},
   "outputs": [],
   "source": [
    "prediction = pred.reshape(pred.shape[0], 1)"
   ]
  },
  {
   "cell_type": "code",
   "execution_count": 12,
   "metadata": {},
   "outputs": [
    {
     "data": {
      "text/plain": [
       "(384, 1)"
      ]
     },
     "execution_count": 12,
     "metadata": {},
     "output_type": "execute_result"
    }
   ],
   "source": [
    "prediction.shape"
   ]
  },
  {
   "cell_type": "code",
   "execution_count": 13,
   "metadata": {},
   "outputs": [],
   "source": [
    "predictions = scaler_y.inverse_transform(prediction.reshape(-1, 1))"
   ]
  },
  {
   "cell_type": "code",
   "execution_count": 14,
   "metadata": {},
   "outputs": [
    {
     "data": {
      "text/plain": [
       "(384, 1)"
      ]
     },
     "execution_count": 14,
     "metadata": {},
     "output_type": "execute_result"
    }
   ],
   "source": [
    "predictions.shape"
   ]
  },
  {
   "cell_type": "code",
   "execution_count": 15,
   "metadata": {},
   "outputs": [],
   "source": [
    "Actual = scaler_y.inverse_transform(y_test.reshape(-1, 1))"
   ]
  },
  {
   "cell_type": "code",
   "execution_count": 16,
   "metadata": {},
   "outputs": [
    {
     "data": {
      "text/plain": [
       "(384, 1)"
      ]
     },
     "execution_count": 16,
     "metadata": {},
     "output_type": "execute_result"
    }
   ],
   "source": [
    "Actual.shape"
   ]
  },
  {
   "cell_type": "code",
   "execution_count": 17,
   "metadata": {},
   "outputs": [],
   "source": [
    "Calculated =pd.DataFrame(predictions, columns = ['Prediction'])"
   ]
  },
  {
   "cell_type": "code",
   "execution_count": 18,
   "metadata": {},
   "outputs": [],
   "source": [
    "Actual=pd.DataFrame(Actual, columns=[\"Actual\"])"
   ]
  },
  {
   "cell_type": "code",
   "execution_count": 19,
   "metadata": {},
   "outputs": [
    {
     "name": "stdout",
     "output_type": "stream",
     "text": [
      "File saved to /Users/ubaidahmed/Desktop/Daily_SI_forecasting /San Diego/Models/XgBoost/XgBoost_output.csv\n"
     ]
    }
   ],
   "source": [
    "import os\n",
    "import pandas as pd\n",
    "\n",
    "# Concatenate Calculated and Actual DataFrames along the columns\n",
    "combined = pd.concat([Calculated, Actual], axis=1)\n",
    "\n",
    "# Define the path to the existing folder\n",
    "save_dir = \"/Users/ubaidahmed/Desktop/Daily_SI_forecasting /San Diego/Models/XgBoost\"\n",
    "\n",
    "# Define the filename within the specified folder\n",
    "filename = os.path.join(save_dir, \"XgBoost_output.csv\")\n",
    "\n",
    "# Save the combined DataFrame to CSV\n",
    "combined.to_csv(filename, index=False)\n",
    "\n",
    "print(f\"File saved to {filename}\")\n"
   ]
  },
  {
   "cell_type": "markdown",
   "metadata": {},
   "source": [
    "# Error Calculation"
   ]
  },
  {
   "cell_type": "code",
   "execution_count": 1,
   "metadata": {},
   "outputs": [],
   "source": [
    "import pandas as pd\n",
    "import numpy as np"
   ]
  },
  {
   "cell_type": "code",
   "execution_count": 2,
   "metadata": {},
   "outputs": [
    {
     "data": {
      "text/plain": [
       "['Prediction', 'Actual']"
      ]
     },
     "execution_count": 2,
     "metadata": {},
     "output_type": "execute_result"
    }
   ],
   "source": [
    "df=pd.read_csv(\"XgBoost_output.csv\")\n",
    "features= list(df)\n",
    "features"
   ]
  },
  {
   "cell_type": "code",
   "execution_count": 3,
   "metadata": {},
   "outputs": [],
   "source": [
    "df=df*1000"
   ]
  },
  {
   "cell_type": "code",
   "execution_count": 4,
   "metadata": {},
   "outputs": [],
   "source": [
    "z= df[\"Actual\"]\n",
    "x= df[\"Prediction\"]"
   ]
  },
  {
   "cell_type": "code",
   "execution_count": 5,
   "metadata": {},
   "outputs": [
    {
     "name": "stdout",
     "output_type": "stream",
     "text": [
      "Mean Square Error is: 368.22679518580736\n",
      "Root Mean Square Error is: 19.18923644092717\n",
      "Mean Absolute Error is: 10.509029947916659\n",
      "Mean Absolute Percentage Error is: 0.22635851635022514\n"
     ]
    }
   ],
   "source": [
    "import math\n",
    "from sklearn.metrics import mean_squared_error\n",
    "MSE=mean_squared_error(z,x)\n",
    "RMSE= math.sqrt(MSE)\n",
    "from sklearn.metrics import mean_absolute_error\n",
    "MAE= mean_absolute_error(z,x)\n",
    "from sklearn.metrics import mean_absolute_percentage_error\n",
    "MAPE= (mean_absolute_percentage_error(z,x))*100\n",
    "print(\"Mean Square Error is:\",MSE)\n",
    "print(\"Root Mean Square Error is:\",RMSE)\n",
    "print(\"Mean Absolute Error is:\",MAE)\n",
    "print(\"Mean Absolute Percentage Error is:\",MAPE)\n"
   ]
  },
  {
   "cell_type": "code",
   "execution_count": 6,
   "metadata": {},
   "outputs": [
    {
     "name": "stdout",
     "output_type": "stream",
     "text": [
      "Max 8651.859\n",
      "Min 1138.9006\n",
      "Mean 5226.8107575520835\n"
     ]
    }
   ],
   "source": [
    "max=x.max()\n",
    "min=x.min()\n",
    "mean=x.mean()\n",
    "\n",
    "print(\"Max\",max)\n",
    "print(\"Min\",min)\n",
    "print('Mean',mean)"
   ]
  },
  {
   "cell_type": "code",
   "execution_count": 7,
   "metadata": {},
   "outputs": [
    {
     "name": "stdout",
     "output_type": "stream",
     "text": [
      "Normalized Root Mean Square Error: 0.2554151829314957\n"
     ]
    }
   ],
   "source": [
    "NRMSE= (RMSE/(max-min))*100\n",
    "print(\"Normalized Root Mean Square Error:\",NRMSE)"
   ]
  },
  {
   "cell_type": "code",
   "execution_count": 8,
   "metadata": {},
   "outputs": [
    {
     "name": "stdout",
     "output_type": "stream",
     "text": [
      "Normalized Root Mean Square Error: 0.36713088211967765\n"
     ]
    }
   ],
   "source": [
    "NRMSE= (RMSE/(mean))*100\n",
    "print(\"Normalized Root Mean Square Error:\",NRMSE)"
   ]
  },
  {
   "cell_type": "code",
   "execution_count": 9,
   "metadata": {},
   "outputs": [],
   "source": [
    "relative_errors = (z - x) / z\n",
    "squared_relative_errors = relative_errors ** 2\n",
    "abs_relative_errors = np.abs(relative_errors)"
   ]
  },
  {
   "cell_type": "code",
   "execution_count": 10,
   "metadata": {},
   "outputs": [],
   "source": [
    "msre = np.mean(squared_relative_errors)\n",
    "rmsre = np.sqrt(msre)\n",
    "mare = np.mean(abs_relative_errors)\n",
    "rmspe = np.sqrt(np.mean((abs_relative_errors * 100) ** 2))"
   ]
  },
  {
   "cell_type": "code",
   "execution_count": 11,
   "metadata": {},
   "outputs": [
    {
     "name": "stdout",
     "output_type": "stream",
     "text": [
      "Mean Square Relative Error is: 2.267446662568394e-05\n",
      "Root Mean Square Relative Error is: 0.004761771374781022\n",
      "Mean Absolute Relative Error is: 0.0022635851635022515\n",
      "Root Mean Square Percentage Error is: 0.4761771374781022\n"
     ]
    }
   ],
   "source": [
    "print(\"Mean Square Relative Error is:\",msre)\n",
    "print(\"Root Mean Square Relative Error is:\",rmsre)\n",
    "print(\"Mean Absolute Relative Error is:\",mare)\n",
    "print(\"Root Mean Square Percentage Error is:\",rmspe)"
   ]
  }
 ],
 "metadata": {
  "kernelspec": {
   "display_name": "Python 3.10.7 64-bit",
   "language": "python",
   "name": "python3"
  },
  "language_info": {
   "codemirror_mode": {
    "name": "ipython",
    "version": 3
   },
   "file_extension": ".py",
   "mimetype": "text/x-python",
   "name": "python",
   "nbconvert_exporter": "python",
   "pygments_lexer": "ipython3",
   "version": "3.10.9"
  },
  "orig_nbformat": 4,
  "vscode": {
   "interpreter": {
    "hash": "ac4210170004fc925580c073d42b7c18005567bca7a1d143f4e4d5a93e6c63c2"
   }
  }
 },
 "nbformat": 4,
 "nbformat_minor": 2
}
