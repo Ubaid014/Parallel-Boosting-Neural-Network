{
 "cells": [
  {
   "cell_type": "code",
   "execution_count": 8,
   "metadata": {},
   "outputs": [
    {
     "name": "stdout",
     "output_type": "stream",
     "text": [
      "RMSE Confidence Interval: [11.46358038 17.40093673]\n",
      "MAE Confidence Interval: [7.64287429 9.1730625 ]\n"
     ]
    }
   ],
   "source": [
    "import numpy as np\n",
    "import pandas as pd\n",
    "from sklearn.metrics import mean_squared_error, mean_absolute_error\n",
    "from sklearn.utils import resample\n",
    "\n",
    "# Load the dataset\n",
    "df = pd.read_csv(\"Islamabad_output.csv\")\n",
    "df=df*1000\n",
    "# Extract features\n",
    "x = df[\"Actual\"]\n",
    "y = df[\"Prediction\"]\n",
    "\n",
    "# Convert actual and predicted values to numpy arrays\n",
    "actual_values = np.array(x)\n",
    "predicted_values = np.array(y)\n",
    "\n",
    "# Number of bootstrap samples\n",
    "num_bootstrap_samples = 10000\n",
    "\n",
    "# Arrays to store RMSE and MAE values from each bootstrap sample\n",
    "bootstrap_rmse_values = []\n",
    "bootstrap_mae_values = []\n",
    "\n",
    "# Perform bootstrapping\n",
    "for _ in range(num_bootstrap_samples):\n",
    "    # Create a bootstrap sample\n",
    "    bootstrap_sample_indices = np.random.choice(len(actual_values), len(actual_values), replace=True)\n",
    "    bootstrap_actual = actual_values[bootstrap_sample_indices]\n",
    "    bootstrap_predicted = predicted_values[bootstrap_sample_indices]\n",
    "\n",
    "    # Calculate RMSE and MAE for the bootstrap sample\n",
    "    bootstrap_rmse = np.sqrt(mean_squared_error(bootstrap_actual, bootstrap_predicted))\n",
    "    bootstrap_mae = mean_absolute_error(bootstrap_actual, bootstrap_predicted)\n",
    "\n",
    "    # Store RMSE and MAE values\n",
    "    bootstrap_rmse_values.append(bootstrap_rmse)\n",
    "    bootstrap_mae_values.append(bootstrap_mae)\n",
    "\n",
    "# Calculate confidence intervals for RMSE and MAE\n",
    "rmse_confidence_interval = np.percentile(bootstrap_rmse_values, [2.5, 97.5])\n",
    "mae_confidence_interval = np.percentile(bootstrap_mae_values, [2.5, 97.5])\n",
    "\n",
    "# Output the results\n",
    "print(f\"RMSE Confidence Interval: {rmse_confidence_interval}\")\n",
    "print(f\"MAE Confidence Interval: {mae_confidence_interval}\")\n"
   ]
  },
  {
   "cell_type": "code",
   "execution_count": 7,
   "metadata": {},
   "outputs": [
    {
     "name": "stdout",
     "output_type": "stream",
     "text": [
      "RMSE Confidence Interval: [ 6.91539556 25.91311846]\n",
      "MAE Confidence Interval: [3.85268313 7.09710725]\n"
     ]
    }
   ],
   "source": [
    "import numpy as np\n",
    "import pandas as pd\n",
    "from sklearn.metrics import mean_squared_error, mean_absolute_error\n",
    "from sklearn.utils import resample\n",
    "\n",
    "# Load the dataset\n",
    "df = pd.read_csv(\"San Diego_output.csv\")\n",
    "df=df*1000\n",
    "# Extract features\n",
    "x = df[\"Actual\"]\n",
    "y = df[\"Prediction\"]\n",
    "\n",
    "# Convert actual and predicted values to numpy arrays\n",
    "actual_values = np.array(x)\n",
    "predicted_values = np.array(y)\n",
    "\n",
    "# Number of bootstrap samples\n",
    "num_bootstrap_samples = 10000\n",
    "\n",
    "# Arrays to store RMSE and MAE values from each bootstrap sample\n",
    "bootstrap_rmse_values = []\n",
    "bootstrap_mae_values = []\n",
    "\n",
    "# Perform bootstrapping\n",
    "for _ in range(num_bootstrap_samples):\n",
    "    # Create a bootstrap sample\n",
    "    bootstrap_sample_indices = np.random.choice(len(actual_values), len(actual_values), replace=True)\n",
    "    bootstrap_actual = actual_values[bootstrap_sample_indices]\n",
    "    bootstrap_predicted = predicted_values[bootstrap_sample_indices]\n",
    "\n",
    "    # Calculate RMSE and MAE for the bootstrap sample\n",
    "    bootstrap_rmse = np.sqrt(mean_squared_error(bootstrap_actual, bootstrap_predicted))\n",
    "    bootstrap_mae = mean_absolute_error(bootstrap_actual, bootstrap_predicted)\n",
    "\n",
    "    # Store RMSE and MAE values\n",
    "    bootstrap_rmse_values.append(bootstrap_rmse)\n",
    "    bootstrap_mae_values.append(bootstrap_mae)\n",
    "\n",
    "# Calculate confidence intervals for RMSE and MAE\n",
    "rmse_confidence_interval = np.percentile(bootstrap_rmse_values, [2.5, 97.5])\n",
    "mae_confidence_interval = np.percentile(bootstrap_mae_values, [2.5, 97.5])\n",
    "\n",
    "# Output the results\n",
    "print(f\"RMSE Confidence Interval: {rmse_confidence_interval}\")\n",
    "print(f\"MAE Confidence Interval: {mae_confidence_interval}\")"
   ]
  }
 ],
 "metadata": {
  "kernelspec": {
   "display_name": "Python 3",
   "language": "python",
   "name": "python3"
  },
  "language_info": {
   "codemirror_mode": {
    "name": "ipython",
    "version": 3
   },
   "file_extension": ".py",
   "mimetype": "text/x-python",
   "name": "python",
   "nbconvert_exporter": "python",
   "pygments_lexer": "ipython3",
   "version": "3.10.9"
  }
 },
 "nbformat": 4,
 "nbformat_minor": 2
}
